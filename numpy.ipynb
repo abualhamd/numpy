{
  "nbformat": 4,
  "nbformat_minor": 0,
  "metadata": {
    "colab": {
      "name": "numpy.ipynb",
      "provenance": [],
      "collapsed_sections": [
        "p-5sKxSbvWh_",
        "x1wNuTUaADj8",
        "toXY_rVi7Jkm",
        "EloTIenb-ki0",
        "uA-4JQ3nhyee",
        "vE74j7UloJ6Q",
        "9h4oluOjgjEn",
        "x8iP3cftkfHg"
      ],
      "toc_visible": true
    },
    "kernelspec": {
      "display_name": "Python 3",
      "language": "python",
      "name": "python3"
    },
    "language_info": {
      "codemirror_mode": {
        "name": "ipython",
        "version": 3
      },
      "file_extension": ".py",
      "mimetype": "text/x-python",
      "name": "python",
      "nbconvert_exporter": "python",
      "pygments_lexer": "ipython3",
      "version": "3.7.6"
    }
  },
  "cells": [
    {
      "cell_type": "code",
      "metadata": {
        "id": "7t28DUDPppAP"
      },
      "source": [
        "import numpy as np"
      ],
      "execution_count": null,
      "outputs": []
    },
    {
      "cell_type": "code",
      "metadata": {
        "colab": {
          "base_uri": "https://localhost:8080/"
        },
        "id": "3c5-a0yOsA1J",
        "outputId": "0acedb8d-bc00-4953-d89f-1d76ebd1b999"
      },
      "source": [
        "a = np.array([1,2,3])\n",
        "b = np.array([4,5,6])\n",
        "\n",
        "print(a*b)"
      ],
      "execution_count": null,
      "outputs": [
        {
          "output_type": "stream",
          "text": [
            "[ 4 10 18]\n"
          ],
          "name": "stdout"
        }
      ]
    },
    {
      "cell_type": "markdown",
      "metadata": {
        "id": "p-5sKxSbvWh_"
      },
      "source": [
        "### for with two variables"
      ]
    },
    {
      "cell_type": "code",
      "metadata": {
        "colab": {
          "base_uri": "https://localhost:8080/"
        },
        "id": "mvY00Co6sc07",
        "outputId": "4af3841f-d239-44c3-bf17-434b65eab23b"
      },
      "source": [
        "c = [1,2,3]\n",
        "d = [4,5,6]\n",
        "for i,j in zip(c,d):\n",
        "  print(i*j,end=\" \")"
      ],
      "execution_count": null,
      "outputs": [
        {
          "output_type": "stream",
          "text": [
            "4 10 18 "
          ],
          "name": "stdout"
        }
      ]
    },
    {
      "cell_type": "markdown",
      "metadata": {
        "id": "x1wNuTUaADj8"
      },
      "source": [
        "### Basics"
      ]
    },
    {
      "cell_type": "code",
      "metadata": {
        "id": "drs11LtNvVPg"
      },
      "source": [
        "#initializing 2d numpy array\n",
        "x = np.array([[1,2,3,4,5,6,7],[8,9,10,11,12,13,14],[15,16,17,18,19,20,21]],dtype='int32')"
      ],
      "execution_count": null,
      "outputs": []
    },
    {
      "cell_type": "code",
      "metadata": {
        "colab": {
          "base_uri": "https://localhost:8080/"
        },
        "id": "CjgrG_VXwJ-7",
        "outputId": "e43d7cc0-5384-4852-ab75-80dfb8640f7a"
      },
      "source": [
        "#get shape\n",
        "print(x.shape)"
      ],
      "execution_count": null,
      "outputs": [
        {
          "output_type": "stream",
          "text": [
            "(3, 7)\n"
          ],
          "name": "stdout"
        }
      ]
    },
    {
      "cell_type": "code",
      "metadata": {
        "colab": {
          "base_uri": "https://localhost:8080/"
        },
        "id": "aawDBJrxxKwb",
        "outputId": "d312b0ad-581b-4cfc-ec04-e631fc8f5a51"
      },
      "source": [
        "#get number of dimensions\n",
        "print(x.ndim)"
      ],
      "execution_count": null,
      "outputs": [
        {
          "output_type": "stream",
          "text": [
            "2\n"
          ],
          "name": "stdout"
        }
      ]
    },
    {
      "cell_type": "code",
      "metadata": {
        "colab": {
          "base_uri": "https://localhost:8080/"
        },
        "id": "oFRnplu6y0iv",
        "outputId": "bd2d3450-b024-4dda-fc0f-afbcf4689e5e"
      },
      "source": [
        "#get data type\n",
        "x.dtype"
      ],
      "execution_count": null,
      "outputs": [
        {
          "output_type": "execute_result",
          "data": {
            "text/plain": [
              "dtype('int32')"
            ]
          },
          "metadata": {
            "tags": []
          },
          "execution_count": 7
        }
      ]
    },
    {
      "cell_type": "code",
      "metadata": {
        "colab": {
          "base_uri": "https://localhost:8080/"
        },
        "id": "YVON6ek_y-_x",
        "outputId": "b3261a95-fa29-4cb4-c75b-1cba4c44c1bf"
      },
      "source": [
        "#turning a numpy array into a column vector\n",
        "y = x\n",
        "y=y.reshape(x.shape[0]*x.shape[1],1)\n",
        "print(y.shape)\n",
        "print(y)"
      ],
      "execution_count": null,
      "outputs": [
        {
          "output_type": "stream",
          "text": [
            "(21, 1)\n",
            "[[ 1]\n",
            " [ 2]\n",
            " [ 3]\n",
            " [ 4]\n",
            " [ 5]\n",
            " [ 6]\n",
            " [ 7]\n",
            " [ 8]\n",
            " [ 9]\n",
            " [10]\n",
            " [11]\n",
            " [12]\n",
            " [13]\n",
            " [14]\n",
            " [15]\n",
            " [16]\n",
            " [17]\n",
            " [18]\n",
            " [19]\n",
            " [20]\n",
            " [21]]\n"
          ],
          "name": "stdout"
        }
      ]
    },
    {
      "cell_type": "code",
      "metadata": {
        "colab": {
          "base_uri": "https://localhost:8080/"
        },
        "id": "PVDYZDsh2FWC",
        "outputId": "552f7ae9-672e-4e20-a34b-4b729b11929b"
      },
      "source": [
        "#initializing a numpy array with zeros\n",
        "arr = np.zeros((5,5))#defining the dimensions\n",
        "print(arr)\n",
        "\n",
        "arr2 = np.zeros(10)#only one row\n",
        "print(arr2)"
      ],
      "execution_count": null,
      "outputs": [
        {
          "output_type": "stream",
          "text": [
            "[[0. 0. 0. 0. 0.]\n",
            " [0. 0. 0. 0. 0.]\n",
            " [0. 0. 0. 0. 0.]\n",
            " [0. 0. 0. 0. 0.]\n",
            " [0. 0. 0. 0. 0.]]\n",
            "[0. 0. 0. 0. 0. 0. 0. 0. 0. 0.]\n"
          ],
          "name": "stdout"
        }
      ]
    },
    {
      "cell_type": "code",
      "metadata": {
        "id": "KaCsijyrovQ7"
      },
      "source": [
        "a = np.array([1,2,3,4,5,6])"
      ],
      "execution_count": null,
      "outputs": []
    },
    {
      "cell_type": "code",
      "metadata": {
        "colab": {
          "base_uri": "https://localhost:8080/"
        },
        "id": "QWFB1T3dphEy",
        "outputId": "124ca9dd-e93d-4ee9-c4c2-57fa1088a8d5"
      },
      "source": [
        "#size of item in bytes\n",
        "a.itemsize"
      ],
      "execution_count": null,
      "outputs": [
        {
          "output_type": "execute_result",
          "data": {
            "text/plain": [
              "8"
            ]
          },
          "metadata": {
            "tags": []
          },
          "execution_count": 11
        }
      ]
    },
    {
      "cell_type": "code",
      "metadata": {
        "colab": {
          "base_uri": "https://localhost:8080/"
        },
        "id": "tpv_103Cpx4G",
        "outputId": "78865630-d9f7-4856-9cce-f4df6ddbbb70"
      },
      "source": [
        "#number of elements in an array\n",
        "a.size"
      ],
      "execution_count": null,
      "outputs": [
        {
          "output_type": "execute_result",
          "data": {
            "text/plain": [
              "6"
            ]
          },
          "metadata": {
            "tags": []
          },
          "execution_count": 12
        }
      ]
    },
    {
      "cell_type": "code",
      "metadata": {
        "colab": {
          "base_uri": "https://localhost:8080/"
        },
        "id": "8LatZM1jrkSD",
        "outputId": "7015e907-f3e4-4960-e420-c010ec363785"
      },
      "source": [
        "#size of the whole array in bytes\n",
        "print(a.size * a.itemsize)\n",
        "print(a.nbytes)"
      ],
      "execution_count": null,
      "outputs": [
        {
          "output_type": "stream",
          "text": [
            "48\n",
            "48\n"
          ],
          "name": "stdout"
        }
      ]
    },
    {
      "cell_type": "markdown",
      "metadata": {
        "id": "toXY_rVi7Jkm"
      },
      "source": [
        "### Accessing/changing specific elements, rows, columns, etc"
      ]
    },
    {
      "cell_type": "code",
      "metadata": {
        "id": "nvQ4wXoZsbRX"
      },
      "source": [
        "arry = np.array([[1,2,3,4,5,6,7],[8,9,10,11,12,13,14]])"
      ],
      "execution_count": null,
      "outputs": []
    },
    {
      "cell_type": "code",
      "metadata": {
        "colab": {
          "base_uri": "https://localhost:8080/"
        },
        "id": "_GXneUem7dGc",
        "outputId": "bde64b06-715c-4e27-cf81-184348dd1e6a"
      },
      "source": [
        "#get a specific element\n",
        "print(arry[0,6])"
      ],
      "execution_count": null,
      "outputs": [
        {
          "output_type": "stream",
          "text": [
            "7\n"
          ],
          "name": "stdout"
        }
      ]
    },
    {
      "cell_type": "code",
      "metadata": {
        "colab": {
          "base_uri": "https://localhost:8080/"
        },
        "id": "HW2L3Q2H7tl0",
        "outputId": "977a4e5a-e477-4bfb-a4c8-000c668d3bf1"
      },
      "source": [
        "#a specific row\n",
        "print(arry[1,:])"
      ],
      "execution_count": null,
      "outputs": [
        {
          "output_type": "stream",
          "text": [
            "[ 8  9 10 11 12 13 14]\n"
          ],
          "name": "stdout"
        }
      ]
    },
    {
      "cell_type": "code",
      "metadata": {
        "colab": {
          "base_uri": "https://localhost:8080/"
        },
        "id": "Tg27SuSM73S0",
        "outputId": "692f80a8-a9d0-4e74-832f-173742f1b161"
      },
      "source": [
        "#get a column\n",
        "print(arry[:,0])"
      ],
      "execution_count": null,
      "outputs": [
        {
          "output_type": "stream",
          "text": [
            "[1 8]\n"
          ],
          "name": "stdout"
        }
      ]
    },
    {
      "cell_type": "code",
      "metadata": {
        "colab": {
          "base_uri": "https://localhost:8080/"
        },
        "id": "V5odF3cj8N9q",
        "outputId": "5429ae4b-77cb-449b-d551-efebed3df5de"
      },
      "source": [
        "#some fancy stuff\n",
        "print(arry[1,1:-1:2])#the two at the end makes it step by two"
      ],
      "execution_count": null,
      "outputs": [
        {
          "output_type": "stream",
          "text": [
            "[ 9 11 13]\n"
          ],
          "name": "stdout"
        }
      ]
    },
    {
      "cell_type": "code",
      "metadata": {
        "colab": {
          "base_uri": "https://localhost:8080/"
        },
        "id": "Hkgb7AaL8sms",
        "outputId": "db020f80-66c0-4e7a-e561-6ded31e85b57"
      },
      "source": [
        "arry[0,6] = 33\n",
        "print(arry)"
      ],
      "execution_count": null,
      "outputs": [
        {
          "output_type": "stream",
          "text": [
            "[[ 1  2  3  4  5  6 33]\n",
            " [ 8  9 10 11 12 13 14]]\n"
          ],
          "name": "stdout"
        }
      ]
    },
    {
      "cell_type": "code",
      "metadata": {
        "colab": {
          "base_uri": "https://localhost:8080/"
        },
        "id": "J3RkDD2W80Ip",
        "outputId": "b0c7211a-c554-4e53-e253-ca6a6072ed5e"
      },
      "source": [
        "arry[:,2] = 7\n",
        "print(arry)"
      ],
      "execution_count": null,
      "outputs": [
        {
          "output_type": "stream",
          "text": [
            "[[ 1  2  7  4  5  6 33]\n",
            " [ 8  9  7 11 12 13 14]]\n"
          ],
          "name": "stdout"
        }
      ]
    },
    {
      "cell_type": "code",
      "metadata": {
        "colab": {
          "base_uri": "https://localhost:8080/"
        },
        "id": "56opHlY29WQO",
        "outputId": "30119c2a-c7ac-4cc7-cf3c-77beec38bd68"
      },
      "source": [
        "arry[0,0:3] = np.arange(3)#[0,1,2] would yeild the same result\n",
        "print(arry)"
      ],
      "execution_count": null,
      "outputs": [
        {
          "output_type": "stream",
          "text": [
            "[[ 0  1  2  4  5  6 33]\n",
            " [ 8  9  7 11 12 13 14]]\n"
          ],
          "name": "stdout"
        }
      ]
    },
    {
      "cell_type": "markdown",
      "metadata": {
        "id": "EloTIenb-ki0"
      },
      "source": [
        "### initializing different types of arrays"
      ]
    },
    {
      "cell_type": "code",
      "metadata": {
        "colab": {
          "base_uri": "https://localhost:8080/"
        },
        "id": "kHTLrYPY-uDz",
        "outputId": "e8ad2a9c-4d97-4d1b-96c2-802ff6d3c9ed"
      },
      "source": [
        "#with zeros\n",
        "mtrx = np.zeros((2,3))\n",
        "mtrx"
      ],
      "execution_count": null,
      "outputs": [
        {
          "output_type": "execute_result",
          "data": {
            "text/plain": [
              "array([[0., 0., 0.],\n",
              "       [0., 0., 0.]])"
            ]
          },
          "metadata": {
            "tags": []
          },
          "execution_count": 22
        }
      ]
    },
    {
      "cell_type": "code",
      "metadata": {
        "colab": {
          "base_uri": "https://localhost:8080/"
        },
        "id": "ezOvcGnpFGIV",
        "outputId": "a7e43adf-3be3-426a-884d-7cf538761c3f"
      },
      "source": [
        "#with ones\n",
        "mtrx2 = np.ones((3,3),dtype=\"int16\")\n",
        "print(mtrx2.itemsize)\n",
        "print(mtrx2)"
      ],
      "execution_count": null,
      "outputs": [
        {
          "output_type": "stream",
          "text": [
            "2\n",
            "[[1 1 1]\n",
            " [1 1 1]\n",
            " [1 1 1]]\n"
          ],
          "name": "stdout"
        }
      ]
    },
    {
      "cell_type": "code",
      "metadata": {
        "colab": {
          "base_uri": "https://localhost:8080/"
        },
        "id": "YMvUGW3IFe1x",
        "outputId": "72986cf6-67d2-4da3-da07-3bb2f6cee573"
      },
      "source": [
        "#with a particular value\n",
        "mtrx3 = np.full((3,4),18)#first we pass the shape \"(3,4)\" and then the value \"18\"\n",
        "print(mtrx3)"
      ],
      "execution_count": null,
      "outputs": [
        {
          "output_type": "stream",
          "text": [
            "[[18 18 18 18]\n",
            " [18 18 18 18]\n",
            " [18 18 18 18]]\n"
          ],
          "name": "stdout"
        }
      ]
    },
    {
      "cell_type": "code",
      "metadata": {
        "colab": {
          "base_uri": "https://localhost:8080/"
        },
        "id": "XhzFGjJoGw94",
        "outputId": "4a0ef6df-c0d8-4fb6-ffc6-c8524610395b"
      },
      "source": [
        "#same as the previous just using full_like\n",
        "mtrx4 = np.full_like(mtrx3,18)\n",
        "print(mtrx4)"
      ],
      "execution_count": null,
      "outputs": [
        {
          "output_type": "stream",
          "text": [
            "[[18 18 18 18]\n",
            " [18 18 18 18]\n",
            " [18 18 18 18]]\n"
          ],
          "name": "stdout"
        }
      ]
    },
    {
      "cell_type": "code",
      "metadata": {
        "colab": {
          "base_uri": "https://localhost:8080/"
        },
        "id": "qW2IWlJZcVLt",
        "outputId": "3593dc85-9429-42d8-ed11-2f59988d1617"
      },
      "source": [
        "#a simple applicaation\n",
        "arr = np.zeros((5,5))\n",
        "arr[0,:] = arr[4,:] = 1 #filling the exterior rows with ones\n",
        "arr[1:4,0] = arr[1:4,4] = 1 #filling the exterior columns with ones\n",
        "arr[2,2] = 9\n",
        "arr"
      ],
      "execution_count": null,
      "outputs": [
        {
          "output_type": "execute_result",
          "data": {
            "text/plain": [
              "array([[1., 1., 1., 1., 1.],\n",
              "       [1., 0., 0., 0., 1.],\n",
              "       [1., 0., 9., 0., 1.],\n",
              "       [1., 0., 0., 0., 1.],\n",
              "       [1., 1., 1., 1., 1.]])"
            ]
          },
          "metadata": {
            "tags": []
          },
          "execution_count": 26
        }
      ]
    },
    {
      "cell_type": "markdown",
      "metadata": {
        "id": "uA-4JQ3nhyee"
      },
      "source": [
        "### copying arrays"
      ]
    },
    {
      "cell_type": "code",
      "metadata": {
        "colab": {
          "base_uri": "https://localhost:8080/"
        },
        "id": "o2NE3ebngHdy",
        "outputId": "820dd941-347c-4686-b888-62cf99c48e46"
      },
      "source": [
        "#the following makes an array point to another array\n",
        "a = np.array([1,2,3,4])\n",
        "b = a\n",
        "b[3] = 100\n",
        "print(b)\n",
        "print(a)"
      ],
      "execution_count": null,
      "outputs": [
        {
          "output_type": "stream",
          "text": [
            "[  1   2   3 100]\n",
            "[  1   2   3 100]\n"
          ],
          "name": "stdout"
        }
      ]
    },
    {
      "cell_type": "code",
      "metadata": {
        "colab": {
          "base_uri": "https://localhost:8080/"
        },
        "id": "R3vSw7WsiE_S",
        "outputId": "0f78d934-248e-4d9e-9218-b04414d99f3a"
      },
      "source": [
        "#the following just copies the elemnts of one array into another\n",
        "a = np.array([1,2,3,4])\n",
        "b = a.copy()\n",
        "b[3] = 100\n",
        "print(b)\n",
        "print(a)"
      ],
      "execution_count": null,
      "outputs": [
        {
          "output_type": "stream",
          "text": [
            "[  1   2   3 100]\n",
            "[1 2 3 4]\n"
          ],
          "name": "stdout"
        }
      ]
    },
    {
      "cell_type": "markdown",
      "metadata": {
        "id": "oMdAiLjHjBXQ"
      },
      "source": [
        "# Maths"
      ]
    },
    {
      "cell_type": "markdown",
      "metadata": {
        "id": "vE74j7UloJ6Q"
      },
      "source": [
        "### Basics"
      ]
    },
    {
      "cell_type": "code",
      "metadata": {
        "id": "ugFeN7CkjFUp"
      },
      "source": [
        "x = np.array([1,2,3,4,5])"
      ],
      "execution_count": null,
      "outputs": []
    },
    {
      "cell_type": "code",
      "metadata": {
        "colab": {
          "base_uri": "https://localhost:8080/"
        },
        "id": "8GbieVLggMXq",
        "outputId": "41741f18-4b6e-47d3-c10d-3b873b0730d1"
      },
      "source": [
        "x += 3\n",
        "x"
      ],
      "execution_count": null,
      "outputs": [
        {
          "output_type": "execute_result",
          "data": {
            "text/plain": [
              "array([4, 5, 6, 7, 8])"
            ]
          },
          "metadata": {
            "tags": []
          },
          "execution_count": 30
        }
      ]
    },
    {
      "cell_type": "code",
      "metadata": {
        "colab": {
          "base_uri": "https://localhost:8080/"
        },
        "id": "0GBJgHqagRng",
        "outputId": "368d5848-3c73-413c-f1dc-659d4bee86e3"
      },
      "source": [
        "x -= 3\n",
        "x"
      ],
      "execution_count": null,
      "outputs": [
        {
          "output_type": "execute_result",
          "data": {
            "text/plain": [
              "array([1, 2, 3, 4, 5])"
            ]
          },
          "metadata": {
            "tags": []
          },
          "execution_count": 31
        }
      ]
    },
    {
      "cell_type": "code",
      "metadata": {
        "colab": {
          "base_uri": "https://localhost:8080/"
        },
        "id": "JSGecuehgoqj",
        "outputId": "2e722a50-0de0-4c1c-d55c-722caf1946de"
      },
      "source": [
        "x *= 2\n",
        "x"
      ],
      "execution_count": null,
      "outputs": [
        {
          "output_type": "execute_result",
          "data": {
            "text/plain": [
              "array([ 2,  4,  6,  8, 10])"
            ]
          },
          "metadata": {
            "tags": []
          },
          "execution_count": 32
        }
      ]
    },
    {
      "cell_type": "code",
      "metadata": {
        "colab": {
          "base_uri": "https://localhost:8080/"
        },
        "id": "7VJqTD_Ggs0F",
        "outputId": "8e71655c-f753-4684-acc6-38260e579121"
      },
      "source": [
        "x = x/2 #can't use /= because numpy doesn't allow /= to chage from int to float if you wish to use it change the dtype upon declaration of the array\n",
        "x"
      ],
      "execution_count": null,
      "outputs": [
        {
          "output_type": "execute_result",
          "data": {
            "text/plain": [
              "array([1., 2., 3., 4., 5.])"
            ]
          },
          "metadata": {
            "tags": []
          },
          "execution_count": 33
        }
      ]
    },
    {
      "cell_type": "code",
      "metadata": {
        "colab": {
          "base_uri": "https://localhost:8080/"
        },
        "id": "gL5eHzgdkiTz",
        "outputId": "830a2839-9793-4f80-cddb-1614f754c959"
      },
      "source": [
        "x **= 2# ** is power\n",
        "x"
      ],
      "execution_count": null,
      "outputs": [
        {
          "output_type": "execute_result",
          "data": {
            "text/plain": [
              "array([ 1.,  4.,  9., 16., 25.])"
            ]
          },
          "metadata": {
            "tags": []
          },
          "execution_count": 34
        }
      ]
    },
    {
      "cell_type": "code",
      "metadata": {
        "colab": {
          "base_uri": "https://localhost:8080/"
        },
        "id": "2ulWpeUmgGE3",
        "outputId": "b7235696-f4dd-4c93-9c43-2f93310760ef"
      },
      "source": [
        "print(np.sin(x))\n",
        "print(np.cos(x))"
      ],
      "execution_count": null,
      "outputs": [
        {
          "output_type": "stream",
          "text": [
            "[ 0.84147098 -0.7568025   0.41211849 -0.28790332 -0.13235175]\n",
            "[ 0.54030231 -0.65364362 -0.91113026 -0.95765948  0.99120281]\n"
          ],
          "name": "stdout"
        }
      ]
    },
    {
      "cell_type": "markdown",
      "metadata": {
        "id": "9h4oluOjgjEn"
      },
      "source": [
        "### Linear Algebra"
      ]
    },
    {
      "cell_type": "code",
      "metadata": {
        "colab": {
          "base_uri": "https://localhost:8080/"
        },
        "id": "42xPyroEgoh2",
        "outputId": "f234e78a-8b8e-442f-f04d-95505225d039"
      },
      "source": [
        "a = np.ones((3,3))\n",
        "print(\"a:\")\n",
        "print(a)\n",
        "b = np.full((3,2),3)\n",
        "print(\"b:\")\n",
        "print(b)\n",
        "print(\"their matrix multiplication:\")\n",
        "print(\"first method\")\n",
        "print(np.dot(a,b))\n",
        "print(\"second method\")\n",
        "print(np.matmul(a,b))"
      ],
      "execution_count": null,
      "outputs": [
        {
          "output_type": "stream",
          "text": [
            "a:\n",
            "[[1. 1. 1.]\n",
            " [1. 1. 1.]\n",
            " [1. 1. 1.]]\n",
            "b:\n",
            "[[3 3]\n",
            " [3 3]\n",
            " [3 3]]\n",
            "their matrix multiplication:\n",
            "first method\n",
            "[[9. 9.]\n",
            " [9. 9.]\n",
            " [9. 9.]]\n",
            "second method\n",
            "[[9. 9.]\n",
            " [9. 9.]\n",
            " [9. 9.]]\n"
          ],
          "name": "stdout"
        }
      ]
    },
    {
      "cell_type": "code",
      "metadata": {
        "colab": {
          "base_uri": "https://localhost:8080/"
        },
        "id": "YNQKPaOhjWXe",
        "outputId": "dc33fce8-ff8f-4f9b-c7fc-7d5641269232"
      },
      "source": [
        "#finding the determinant\n",
        "c = np.identity(3)#identity matrix\n",
        "np.linalg.det(c)"
      ],
      "execution_count": null,
      "outputs": [
        {
          "output_type": "execute_result",
          "data": {
            "text/plain": [
              "1.0"
            ]
          },
          "metadata": {
            "tags": []
          },
          "execution_count": 37
        }
      ]
    },
    {
      "cell_type": "code",
      "metadata": {
        "colab": {
          "base_uri": "https://localhost:8080/"
        },
        "id": "W8FAnPrZkBdc",
        "outputId": "1dc80e8d-970e-4eda-8d36-e9a73b8625ab"
      },
      "source": [
        "#the inverse of a matrix\n",
        "np.linalg.inv(c)#the inverse of the identity matrix is itself"
      ],
      "execution_count": null,
      "outputs": [
        {
          "output_type": "execute_result",
          "data": {
            "text/plain": [
              "array([[1., 0., 0.],\n",
              "       [0., 1., 0.],\n",
              "       [0., 0., 1.]])"
            ]
          },
          "metadata": {
            "tags": []
          },
          "execution_count": 38
        }
      ]
    },
    {
      "cell_type": "markdown",
      "metadata": {
        "id": "x8iP3cftkfHg"
      },
      "source": [
        "### Statistics"
      ]
    },
    {
      "cell_type": "code",
      "metadata": {
        "colab": {
          "base_uri": "https://localhost:8080/"
        },
        "id": "8dYoPvD8ki47",
        "outputId": "11930d51-26fe-4e7e-b8c6-238595110ae7"
      },
      "source": [
        "stats = np.random.rand(3,3)\n",
        "stats"
      ],
      "execution_count": null,
      "outputs": [
        {
          "output_type": "execute_result",
          "data": {
            "text/plain": [
              "array([[0.60158326, 0.30286141, 0.41136257],\n",
              "       [0.01550084, 0.21388619, 0.25403942],\n",
              "       [0.9351151 , 0.585175  , 0.58033378]])"
            ]
          },
          "metadata": {
            "tags": []
          },
          "execution_count": 39
        }
      ]
    },
    {
      "cell_type": "code",
      "metadata": {
        "colab": {
          "base_uri": "https://localhost:8080/"
        },
        "id": "kglYljeYna8D",
        "outputId": "8c583d5f-5004-436d-fbb1-51fba3b3f995"
      },
      "source": [
        "np.min(stats)"
      ],
      "execution_count": null,
      "outputs": [
        {
          "output_type": "execute_result",
          "data": {
            "text/plain": [
              "0.015500840078547018"
            ]
          },
          "metadata": {
            "tags": []
          },
          "execution_count": 40
        }
      ]
    },
    {
      "cell_type": "code",
      "metadata": {
        "colab": {
          "base_uri": "https://localhost:8080/"
        },
        "id": "54HV4S99nliL",
        "outputId": "8ff711eb-f506-4fb0-a7e8-1465e2806136"
      },
      "source": [
        "np.max(stats,axis=1)#max at each row"
      ],
      "execution_count": null,
      "outputs": [
        {
          "output_type": "execute_result",
          "data": {
            "text/plain": [
              "array([0.60158326, 0.25403942, 0.9351151 ])"
            ]
          },
          "metadata": {
            "tags": []
          },
          "execution_count": 41
        }
      ]
    },
    {
      "cell_type": "code",
      "metadata": {
        "colab": {
          "base_uri": "https://localhost:8080/"
        },
        "id": "H3dOG5Whnzk4",
        "outputId": "2ab9b9dd-15ea-4ac3-9633-3d6f4a619027"
      },
      "source": [
        "np.min(stats,axis=0)#min at each column"
      ],
      "execution_count": null,
      "outputs": [
        {
          "output_type": "execute_result",
          "data": {
            "text/plain": [
              "array([0.01550084, 0.21388619, 0.25403942])"
            ]
          },
          "metadata": {
            "tags": []
          },
          "execution_count": 42
        }
      ]
    },
    {
      "cell_type": "code",
      "metadata": {
        "colab": {
          "base_uri": "https://localhost:8080/"
        },
        "id": "lk_Xr9jnoWXO",
        "outputId": "4bd65834-03fe-47d6-d7fb-cb36ec7acd1d"
      },
      "source": [
        "np.sum(stats)"
      ],
      "execution_count": null,
      "outputs": [
        {
          "output_type": "execute_result",
          "data": {
            "text/plain": [
              "3.8998575693940447"
            ]
          },
          "metadata": {
            "tags": []
          },
          "execution_count": 43
        }
      ]
    },
    {
      "cell_type": "code",
      "metadata": {
        "colab": {
          "base_uri": "https://localhost:8080/"
        },
        "id": "gRU0E3GhoB7G",
        "outputId": "b6c73a21-62d7-4ec6-bc2d-8c33cae94732"
      },
      "source": [
        "#the average(mean)\n",
        "np.mean(stats)"
      ],
      "execution_count": null,
      "outputs": [
        {
          "output_type": "execute_result",
          "data": {
            "text/plain": [
              "0.4333175077104494"
            ]
          },
          "metadata": {
            "tags": []
          },
          "execution_count": 44
        }
      ]
    },
    {
      "cell_type": "markdown",
      "metadata": {
        "id": "5LOegP81ojWa"
      },
      "source": [
        "## Reorganizing arrays"
      ]
    },
    {
      "cell_type": "code",
      "metadata": {
        "colab": {
          "base_uri": "https://localhost:8080/"
        },
        "id": "t1t0k2ILooYO",
        "outputId": "52249277-ae9b-4c27-bb7a-836661b1147e"
      },
      "source": [
        "orgnl = np.arange(15)\n",
        "orgnl"
      ],
      "execution_count": null,
      "outputs": [
        {
          "output_type": "execute_result",
          "data": {
            "text/plain": [
              "array([ 0,  1,  2,  3,  4,  5,  6,  7,  8,  9, 10, 11, 12, 13, 14])"
            ]
          },
          "metadata": {
            "tags": []
          },
          "execution_count": 45
        }
      ]
    },
    {
      "cell_type": "code",
      "metadata": {
        "colab": {
          "base_uri": "https://localhost:8080/"
        },
        "id": "xDBM6vHHpJS1",
        "outputId": "482d49d6-fc08-41c6-bb48-a9bb8cc56f27"
      },
      "source": [
        "modified = orgnl.reshape(3,5)\n",
        "modified"
      ],
      "execution_count": null,
      "outputs": [
        {
          "output_type": "execute_result",
          "data": {
            "text/plain": [
              "array([[ 0,  1,  2,  3,  4],\n",
              "       [ 5,  6,  7,  8,  9],\n",
              "       [10, 11, 12, 13, 14]])"
            ]
          },
          "metadata": {
            "tags": []
          },
          "execution_count": 46
        }
      ]
    },
    {
      "cell_type": "markdown",
      "metadata": {
        "id": "UNU5NQcKu7mJ"
      },
      "source": [
        "### Deleting rows and columns"
      ]
    },
    {
      "cell_type": "code",
      "metadata": {
        "colab": {
          "base_uri": "https://localhost:8080/"
        },
        "id": "_DJW_ptCu_9f",
        "outputId": "a4c3bc46-923e-430b-cdec-49acedf7dbfc"
      },
      "source": [
        "f = np.arange(15).reshape(3,5)\n",
        "print(f)"
      ],
      "execution_count": null,
      "outputs": [
        {
          "output_type": "stream",
          "text": [
            "[[ 0  1  2  3  4]\n",
            " [ 5  6  7  8  9]\n",
            " [10 11 12 13 14]]\n"
          ],
          "name": "stdout"
        }
      ]
    },
    {
      "cell_type": "code",
      "metadata": {
        "colab": {
          "base_uri": "https://localhost:8080/"
        },
        "id": "o5LWNDmYvQbX",
        "outputId": "80615027-74dd-4565-be36-77a938ecf31e"
      },
      "source": [
        "#deleting rows\n",
        "f_delr = np.delete(f,1,0)\n",
        "#the second parameter is the index of the row or the column\n",
        "#the last parameter specifies whether we're deleting from rows or colmuns if 0 it's rows if 1 it's columns\n",
        "\n",
        "print(f_delr)"
      ],
      "execution_count": null,
      "outputs": [
        {
          "output_type": "stream",
          "text": [
            "[[ 0  1  2  3  4]\n",
            " [10 11 12 13 14]]\n"
          ],
          "name": "stdout"
        }
      ]
    },
    {
      "cell_type": "code",
      "metadata": {
        "colab": {
          "base_uri": "https://localhost:8080/"
        },
        "id": "KJgHpB6wwF7X",
        "outputId": "4345c109-115b-4f9c-c07b-012c9701003a"
      },
      "source": [
        "#deleting columns\n",
        "f_delc = np.delete(f,3,1)#we are deleting the fourth column which has index 3 and the last parameter 1 specifies that it's a column\n",
        "print(f_delc)"
      ],
      "execution_count": null,
      "outputs": [
        {
          "output_type": "stream",
          "text": [
            "[[ 0  1  2  4]\n",
            " [ 5  6  7  9]\n",
            " [10 11 12 14]]\n"
          ],
          "name": "stdout"
        }
      ]
    },
    {
      "cell_type": "markdown",
      "metadata": {
        "id": "NOEN0dkEq-1A"
      },
      "source": [
        "### stacking arrays"
      ]
    },
    {
      "cell_type": "code",
      "metadata": {
        "colab": {
          "base_uri": "https://localhost:8080/"
        },
        "id": "KzVO21HHrQUT",
        "outputId": "a0e83588-0302-40c2-cda0-215e3e6ffbb2"
      },
      "source": [
        "#vertically\n",
        "v1 = np.arange(4)\n",
        "v2 = np.arange(4,8)\n",
        "print(\"v1:\",v1)\n",
        "print(\"v2:\",v2)\n",
        "np.vstack([v1,v2])"
      ],
      "execution_count": null,
      "outputs": [
        {
          "output_type": "stream",
          "text": [
            "v1: [0 1 2 3]\n",
            "v2: [4 5 6 7]\n"
          ],
          "name": "stdout"
        },
        {
          "output_type": "execute_result",
          "data": {
            "text/plain": [
              "array([[0, 1, 2, 3],\n",
              "       [4, 5, 6, 7]])"
            ]
          },
          "metadata": {
            "tags": []
          },
          "execution_count": 50
        }
      ]
    },
    {
      "cell_type": "markdown",
      "metadata": {
        "id": "-QGrwv7JfLOs"
      },
      "source": [
        ""
      ]
    },
    {
      "cell_type": "code",
      "metadata": {
        "colab": {
          "base_uri": "https://localhost:8080/"
        },
        "id": "tOlvfqvksIVC",
        "outputId": "5c4bb95e-ba67-495a-e978-04a62c633afe"
      },
      "source": [
        "#horizontally\n",
        "h1 = np.random.randint(8,size=(2,4))\n",
        "h2 = np.random.randint(2,11,size=(2,3))\n",
        "print(\"h1:\",h1)\n",
        "print(\"h2:\",h2)\n",
        "np.hstack([h1,h2])"
      ],
      "execution_count": null,
      "outputs": [
        {
          "output_type": "stream",
          "text": [
            "h1: [[3 2 3 4]\n",
            " [3 0 4 4]]\n",
            "h2: [[7 8 4]\n",
            " [5 2 8]]\n"
          ],
          "name": "stdout"
        },
        {
          "output_type": "execute_result",
          "data": {
            "text/plain": [
              "array([[3, 2, 3, 4, 7, 8, 4],\n",
              "       [3, 0, 4, 4, 5, 2, 8]])"
            ]
          },
          "metadata": {
            "tags": []
          },
          "execution_count": 51
        }
      ]
    }
  ]
}